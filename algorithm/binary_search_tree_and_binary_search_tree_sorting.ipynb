{
 "cells": [
  {
   "cell_type": "markdown",
   "metadata": {},
   "source": [
    "This page of codes is based on the book _Problem Solving with Algorithms and Data Structures using Python_, all details are included in chapter [6.11-6.13](http://interactivepython.org/runestone/static/pythonds/Trees/BinarySearchTrees.html)\n",
    "\n",
    "Binary Sreach Trees\n",
    "===\n",
    "\n",
    "A binary search tree is an implementations of a map ADT, to map from a key to a value. Other implementations of the same ADT are binary search on a list and hash tables."
   ]
  },
  {
   "cell_type": "markdown",
   "metadata": {},
   "source": [
    "First, the BST class was constructed."
   ]
  },
  {
   "cell_type": "code",
   "execution_count": 13,
   "metadata": {
    "collapsed": false
   },
   "outputs": [],
   "source": [
    "from basetree import BaseTree, BaseTreeNode"
   ]
  },
  {
   "cell_type": "code",
   "execution_count": 14,
   "metadata": {
    "collapsed": false
   },
   "outputs": [],
   "source": [
    "class TreeNode(BaseTreeNode):\n",
    "    pass\n",
    "\n",
    "\n",
    "class BinarySearchTree(BaseTree):\n",
    "    pass"
   ]
  },
  {
   "cell_type": "code",
   "execution_count": 15,
   "metadata": {
    "collapsed": true
   },
   "outputs": [],
   "source": [
    "def get(self,key):\n",
    "    if self.root:\n",
    "        res = self._get(key,self.root)\n",
    "        if res:\n",
    "               return res.payload\n",
    "        else:\n",
    "               return None\n",
    "    else:\n",
    "        return None\n",
    "\n",
    "def _get(self,key,currentNode):\n",
    "    if not currentNode:\n",
    "        return None\n",
    "    elif currentNode.key == key:\n",
    "        return currentNode\n",
    "    elif key < currentNode.key:\n",
    "        return self._get(key,currentNode.leftChild)\n",
    "    else:\n",
    "        return self._get(key,currentNode.rightChild)\n",
    "    \n",
    "BinarySearchTree.get = get\n",
    "BinarySearchTree._get = _get"
   ]
  },
  {
   "cell_type": "code",
   "execution_count": 16,
   "metadata": {
    "collapsed": true
   },
   "outputs": [],
   "source": [
    "def put(self,key,val):\n",
    "    if self.root:  # Check if it's an empty tree first\n",
    "        self._put(key,val,self.root)\n",
    "    else:\n",
    "        self.root = TreeNode(key,val)\n",
    "    self.size = self.size + 1\n",
    "\n",
    "def _put(self,key,val,currentNode):\n",
    "    if key < currentNode.key:\n",
    "        if currentNode.hasLeftChild():\n",
    "               self._put(key,val,currentNode.leftChild)\n",
    "        else:\n",
    "               currentNode.leftChild = TreeNode(key,val,parent=currentNode)\n",
    "    else:\n",
    "        if currentNode.hasRightChild():\n",
    "               self._put(key,val,currentNode.rightChild)\n",
    "        else:\n",
    "               currentNode.rightChild = TreeNode(key,val,parent=currentNode)\n",
    "\n",
    "BinarySearchTree.put = put\n",
    "BinarySearchTree._put = _put"
   ]
  },
  {
   "cell_type": "code",
   "execution_count": 17,
   "metadata": {
    "collapsed": true
   },
   "outputs": [],
   "source": [
    "def bstnodeiter(self):\n",
    "    if self.hasLeftChild():\n",
    "        yield from self.leftChild\n",
    "    yield self.payload    \n",
    "    if self.hasRightChild():\n",
    "        yield from self.rightChild\n",
    "        \n",
    "TreeNode.iter = bstnodeiter"
   ]
  },
  {
   "cell_type": "code",
   "execution_count": 20,
   "metadata": {
    "collapsed": false
   },
   "outputs": [],
   "source": [
    "p = BinarySearchTree()\n",
    "from random import shuffle\n",
    "temp = list(range(200))\n",
    "shuffle(temp)\n",
    "for i in temp:\n",
    "    p.put(i,i)"
   ]
  },
  {
   "cell_type": "code",
   "execution_count": 24,
   "metadata": {
    "collapsed": false
   },
   "outputs": [
    {
     "name": "stdout",
     "output_type": "stream",
     "text": [
      "Pretty printing has been turned OFF\n"
     ]
    },
    {
     "data": {
      "text/plain": [
       "[0, 1, 2, 3, 4, 5, 6, 7, 8, 9, 10, 11, 12, 13, 14, 15, 16, 17, 18, 19, 20, 21, 22, 23, 24, 25, 26, 27, 28, 29, 30, 31, 32, 33, 34, 35, 36, 37, 38, 39, 40, 41, 42, 43, 44, 45, 46, 47, 48, 49, 50, 51, 52, 53, 54, 55, 56, 57, 58, 59, 60, 61, 62, 63, 64, 65, 66, 67, 68, 69, 70, 71, 72, 73, 74, 75, 76, 77, 78, 79, 80, 81, 82, 83, 84, 85, 86, 87, 88, 89, 90, 91, 92, 93, 94, 95, 96, 97, 98, 99, 100, 101, 102, 103, 104, 105, 106, 107, 108, 109, 110, 111, 112, 113, 114, 115, 116, 117, 118, 119, 120, 121, 122, 123, 124, 125, 126, 127, 128, 129, 130, 131, 132, 133, 134, 135, 136, 137, 138, 139, 140, 141, 142, 143, 144, 145, 146, 147, 148, 149, 150, 151, 152, 153, 154, 155, 156, 157, 158, 159, 160, 161, 162, 163, 164, 165, 166, 167, 168, 169, 170, 171, 172, 173, 174, 175, 176, 177, 178, 179, 180, 181, 182, 183, 184, 185, 186, 187, 188, 189, 190, 191, 192, 193, 194, 195, 196, 197, 198, 199]"
      ]
     },
     "execution_count": 24,
     "metadata": {},
     "output_type": "execute_result"
    }
   ],
   "source": [
    "%pprint \n",
    "list(p)"
   ]
  },
  {
   "cell_type": "code",
   "execution_count": null,
   "metadata": {
    "collapsed": false
   },
   "outputs": [],
   "source": [
    "next(p1)"
   ]
  },
  {
   "cell_type": "code",
   "execution_count": null,
   "metadata": {
    "collapsed": false
   },
   "outputs": [],
   "source": [
    "p.root.rightChild.rightChild.rightChild"
   ]
  },
  {
   "cell_type": "code",
   "execution_count": null,
   "metadata": {
    "collapsed": true
   },
   "outputs": [],
   "source": []
  }
 ],
 "metadata": {
  "kernelspec": {
   "display_name": "Python 3",
   "language": "python",
   "name": "python3"
  },
  "language_info": {
   "codemirror_mode": {
    "name": "ipython",
    "version": 3
   },
   "file_extension": ".py",
   "mimetype": "text/x-python",
   "name": "python",
   "nbconvert_exporter": "python",
   "pygments_lexer": "ipython3",
   "version": "3.6.0"
  }
 },
 "nbformat": 4,
 "nbformat_minor": 2
}
